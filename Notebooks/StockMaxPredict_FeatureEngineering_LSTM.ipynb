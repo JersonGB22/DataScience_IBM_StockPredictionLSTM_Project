{
  "cells": [
    {
      "cell_type": "code",
      "execution_count": 1,
      "metadata": {
        "id": "OzvbYFUGjVBL"
      },
      "outputs": [],
      "source": [
        "# Importación de librerías\n",
        "import pandas as pd\n",
        "from sklearn.preprocessing import MinMaxScaler\n",
        "import numpy as np\n",
        "import matplotlib.pyplot as plt"
      ]
    },
    {
      "cell_type": "code",
      "execution_count": 2,
      "metadata": {
        "colab": {
          "base_uri": "https://localhost:8080/",
          "height": 424
        },
        "id": "dsgKRy3dpjSy",
        "outputId": "ca15df42-f8da-49df-dc06-cc06366db57f"
      },
      "outputs": [
        {
          "data": {
            "text/html": [
              "<div>\n",
              "<style scoped>\n",
              "    .dataframe tbody tr th:only-of-type {\n",
              "        vertical-align: middle;\n",
              "    }\n",
              "\n",
              "    .dataframe tbody tr th {\n",
              "        vertical-align: top;\n",
              "    }\n",
              "\n",
              "    .dataframe thead th {\n",
              "        text-align: right;\n",
              "    }\n",
              "</style>\n",
              "<table border=\"1\" class=\"dataframe\">\n",
              "  <thead>\n",
              "    <tr style=\"text-align: right;\">\n",
              "      <th></th>\n",
              "      <th>Date</th>\n",
              "      <th>Open</th>\n",
              "      <th>High</th>\n",
              "      <th>Low</th>\n",
              "      <th>Close</th>\n",
              "      <th>Adj Close</th>\n",
              "      <th>Volume</th>\n",
              "      <th>id_company</th>\n",
              "    </tr>\n",
              "  </thead>\n",
              "  <tbody>\n",
              "    <tr>\n",
              "      <th>0</th>\n",
              "      <td>2013-01-02</td>\n",
              "      <td>19.779285</td>\n",
              "      <td>19.821428</td>\n",
              "      <td>19.343929</td>\n",
              "      <td>19.608213</td>\n",
              "      <td>16.791185</td>\n",
              "      <td>560518000</td>\n",
              "      <td>AAPL</td>\n",
              "    </tr>\n",
              "    <tr>\n",
              "      <th>1</th>\n",
              "      <td>2013-01-02</td>\n",
              "      <td>27.250000</td>\n",
              "      <td>27.730000</td>\n",
              "      <td>27.150000</td>\n",
              "      <td>27.620001</td>\n",
              "      <td>22.620338</td>\n",
              "      <td>52899300</td>\n",
              "      <td>MSFT</td>\n",
              "    </tr>\n",
              "    <tr>\n",
              "      <th>2</th>\n",
              "      <td>2013-01-02</td>\n",
              "      <td>2.333333</td>\n",
              "      <td>2.363333</td>\n",
              "      <td>2.314000</td>\n",
              "      <td>2.357333</td>\n",
              "      <td>2.357333</td>\n",
              "      <td>17922000</td>\n",
              "      <td>TSLA</td>\n",
              "    </tr>\n",
              "    <tr>\n",
              "      <th>3</th>\n",
              "      <td>2013-01-02</td>\n",
              "      <td>12.804000</td>\n",
              "      <td>12.905000</td>\n",
              "      <td>12.663000</td>\n",
              "      <td>12.865500</td>\n",
              "      <td>12.865500</td>\n",
              "      <td>65420000</td>\n",
              "      <td>AMZN</td>\n",
              "    </tr>\n",
              "    <tr>\n",
              "      <th>4</th>\n",
              "      <td>2013-01-02</td>\n",
              "      <td>17.918339</td>\n",
              "      <td>18.107130</td>\n",
              "      <td>17.846855</td>\n",
              "      <td>18.013729</td>\n",
              "      <td>18.013729</td>\n",
              "      <td>102033017</td>\n",
              "      <td>GOOG</td>\n",
              "    </tr>\n",
              "    <tr>\n",
              "      <th>...</th>\n",
              "      <td>...</td>\n",
              "      <td>...</td>\n",
              "      <td>...</td>\n",
              "      <td>...</td>\n",
              "      <td>...</td>\n",
              "      <td>...</td>\n",
              "      <td>...</td>\n",
              "      <td>...</td>\n",
              "    </tr>\n",
              "    <tr>\n",
              "      <th>27379</th>\n",
              "      <td>2023-09-18</td>\n",
              "      <td>298.190002</td>\n",
              "      <td>303.600006</td>\n",
              "      <td>297.799988</td>\n",
              "      <td>302.549988</td>\n",
              "      <td>302.549988</td>\n",
              "      <td>14234200</td>\n",
              "      <td>META</td>\n",
              "    </tr>\n",
              "    <tr>\n",
              "      <th>27380</th>\n",
              "      <td>2023-09-18</td>\n",
              "      <td>327.799988</td>\n",
              "      <td>330.399994</td>\n",
              "      <td>326.359985</td>\n",
              "      <td>329.059998</td>\n",
              "      <td>329.059998</td>\n",
              "      <td>16834200</td>\n",
              "      <td>MSFT</td>\n",
              "    </tr>\n",
              "    <tr>\n",
              "      <th>27381</th>\n",
              "      <td>2023-09-18</td>\n",
              "      <td>140.479996</td>\n",
              "      <td>141.750000</td>\n",
              "      <td>139.220001</td>\n",
              "      <td>139.979996</td>\n",
              "      <td>139.979996</td>\n",
              "      <td>42823500</td>\n",
              "      <td>AMZN</td>\n",
              "    </tr>\n",
              "    <tr>\n",
              "      <th>27382</th>\n",
              "      <td>2023-09-18</td>\n",
              "      <td>271.160004</td>\n",
              "      <td>271.440002</td>\n",
              "      <td>263.760010</td>\n",
              "      <td>265.279999</td>\n",
              "      <td>265.279999</td>\n",
              "      <td>101543300</td>\n",
              "      <td>TSLA</td>\n",
              "    </tr>\n",
              "    <tr>\n",
              "      <th>27383</th>\n",
              "      <td>2023-09-18</td>\n",
              "      <td>137.630005</td>\n",
              "      <td>139.929993</td>\n",
              "      <td>137.630005</td>\n",
              "      <td>138.960007</td>\n",
              "      <td>138.960007</td>\n",
              "      <td>16233600</td>\n",
              "      <td>GOOG</td>\n",
              "    </tr>\n",
              "  </tbody>\n",
              "</table>\n",
              "<p>27384 rows × 8 columns</p>\n",
              "</div>"
            ],
            "text/plain": [
              "            Date        Open        High         Low       Close   Adj Close  \\\n",
              "0     2013-01-02   19.779285   19.821428   19.343929   19.608213   16.791185   \n",
              "1     2013-01-02   27.250000   27.730000   27.150000   27.620001   22.620338   \n",
              "2     2013-01-02    2.333333    2.363333    2.314000    2.357333    2.357333   \n",
              "3     2013-01-02   12.804000   12.905000   12.663000   12.865500   12.865500   \n",
              "4     2013-01-02   17.918339   18.107130   17.846855   18.013729   18.013729   \n",
              "...          ...         ...         ...         ...         ...         ...   \n",
              "27379 2023-09-18  298.190002  303.600006  297.799988  302.549988  302.549988   \n",
              "27380 2023-09-18  327.799988  330.399994  326.359985  329.059998  329.059998   \n",
              "27381 2023-09-18  140.479996  141.750000  139.220001  139.979996  139.979996   \n",
              "27382 2023-09-18  271.160004  271.440002  263.760010  265.279999  265.279999   \n",
              "27383 2023-09-18  137.630005  139.929993  137.630005  138.960007  138.960007   \n",
              "\n",
              "          Volume id_company  \n",
              "0      560518000       AAPL  \n",
              "1       52899300       MSFT  \n",
              "2       17922000       TSLA  \n",
              "3       65420000       AMZN  \n",
              "4      102033017       GOOG  \n",
              "...          ...        ...  \n",
              "27379   14234200       META  \n",
              "27380   16834200       MSFT  \n",
              "27381   42823500       AMZN  \n",
              "27382  101543300       TSLA  \n",
              "27383   16233600       GOOG  \n",
              "\n",
              "[27384 rows x 8 columns]"
            ]
          },
          "execution_count": 2,
          "metadata": {},
          "output_type": "execute_result"
        }
      ],
      "source": [
        "# Carga de datos\n",
        "df=pd.read_csv(\"https://raw.githubusercontent.com/JersonGB22/DataScience_IBM_StockPredictionLSTM_Project/main/DataStorage/datasets_company_etl.csv\")\n",
        "df[\"Date\"]=pd.to_datetime(df.Date)\n",
        "df"
      ]
    },
    {
      "cell_type": "markdown",
      "metadata": {
        "id": "ZjiVVMpz-w2A"
      },
      "source": [
        "#### **Feature Engineering**\n",
        "\n",
        "Esta etapa engloba varios procesos esenciales para preparar los datos antes de construir el modelo LSTM de predicción de las acciones máximas de las 7 empresas para los próximos 7 días. Los pasos clave son los siguientes:\n",
        "\n",
        "1. **Selección de Variables**: Se seleccionan cuidadosamente las variables que se utilizarán en el modelo, basándose en el EDA previo.\n",
        "\n",
        "2. **Escalamiento de Datos**: Cada variable en el conjunto de datos se escala individualmente utilizando la técnica MinMaxScaler. Esto garantiza que todas las variables tengan un rango común de [0;1] y facilita el proceso de entrenamiento del modelo.\n",
        "\n",
        "3. **División de Datos Temporal**: La partición de datos se realiza de manera temporal, teniendo en cuenta la naturaleza de series de tiempo. Se utiliza el período desde el 2 de enero de 2013 hasta el 31 de diciembre de 2021 para el conjunto de entrenamiento, y desde el 1 de enero de 2022 hasta la fecha actual, el 18 de septiembre de 2023, para el conjunto de prueba. Esta división se hace para evitar la pérdida de periodicidad en los datos.\n",
        "\n",
        "4. **Creación de Conjuntos de Datos de Entrada y Salida**: Se generan los conjuntos de entrenamiento y prueba que servirán como entrada y salida para el modelo LSTM. El conjunto de entrada tendrá dimensiones de la forma `(Número de datos, Bloques de 90 días consecutivos, Número de características)`, mientras que el conjunto de salida tendrá dimensiones de `(Número de predicciones, 7 días de predicciones consecutivas, Número de características (1=High))`.\n",
        "\n",
        "En cada uno de estos pasos, se implementarán funciones específicas para garantizar una ejecución eficiente y reproducible de este proceso para cada una de las 7 empresas."
      ]
    },
    {
      "cell_type": "markdown",
      "metadata": {
        "id": "IUXiR6kTjDLo"
      },
      "source": [
        "**OBSERVACIÓN:** Todas estas funciones se aplicarán a cada modelo de red LSTM en las etapas posteriores de este proyecto. Dado que estamos trabajando con 7 empresas diferentes, se crearán 7 notebooks. En esta fase de Feature Engineering, se presentará los resultados y análisis de cada función utilizando una empresa en particular como ejemplo ilustrativo."
      ]
    },
    {
      "cell_type": "code",
      "execution_count": 3,
      "metadata": {
        "id": "3r-ewUAN0LML"
      },
      "outputs": [],
      "source": [
        "# Función para la selección de variables\n",
        "def variable_selection(df, company):\n",
        "  df2=df.copy()\n",
        "  df2=df2[df2.id_company==company]\n",
        "  df2=df2.iloc[:, :5].reset_index(drop=True)\n",
        "\n",
        "  return df2"
      ]
    },
    {
      "cell_type": "code",
      "execution_count": 4,
      "metadata": {
        "colab": {
          "base_uri": "https://localhost:8080/",
          "height": 424
        },
        "id": "g00tl2ik1FuY",
        "outputId": "f5711f38-87c9-402e-ea5d-8ad07d0cf51e"
      },
      "outputs": [
        {
          "data": {
            "text/html": [
              "<div>\n",
              "<style scoped>\n",
              "    .dataframe tbody tr th:only-of-type {\n",
              "        vertical-align: middle;\n",
              "    }\n",
              "\n",
              "    .dataframe tbody tr th {\n",
              "        vertical-align: top;\n",
              "    }\n",
              "\n",
              "    .dataframe thead th {\n",
              "        text-align: right;\n",
              "    }\n",
              "</style>\n",
              "<table border=\"1\" class=\"dataframe\">\n",
              "  <thead>\n",
              "    <tr style=\"text-align: right;\">\n",
              "      <th></th>\n",
              "      <th>Date</th>\n",
              "      <th>Open</th>\n",
              "      <th>High</th>\n",
              "      <th>Low</th>\n",
              "      <th>Close</th>\n",
              "    </tr>\n",
              "  </thead>\n",
              "  <tbody>\n",
              "    <tr>\n",
              "      <th>0</th>\n",
              "      <td>2013-01-02</td>\n",
              "      <td>19.779285</td>\n",
              "      <td>19.821428</td>\n",
              "      <td>19.343929</td>\n",
              "      <td>19.608213</td>\n",
              "    </tr>\n",
              "    <tr>\n",
              "      <th>1</th>\n",
              "      <td>2013-01-03</td>\n",
              "      <td>19.567142</td>\n",
              "      <td>19.631071</td>\n",
              "      <td>19.321428</td>\n",
              "      <td>19.360714</td>\n",
              "    </tr>\n",
              "    <tr>\n",
              "      <th>2</th>\n",
              "      <td>2013-01-04</td>\n",
              "      <td>19.177500</td>\n",
              "      <td>19.236786</td>\n",
              "      <td>18.779642</td>\n",
              "      <td>18.821428</td>\n",
              "    </tr>\n",
              "    <tr>\n",
              "      <th>3</th>\n",
              "      <td>2013-01-05</td>\n",
              "      <td>18.642857</td>\n",
              "      <td>18.903570</td>\n",
              "      <td>18.400000</td>\n",
              "      <td>18.710714</td>\n",
              "    </tr>\n",
              "    <tr>\n",
              "      <th>4</th>\n",
              "      <td>2013-01-06</td>\n",
              "      <td>18.642857</td>\n",
              "      <td>18.903570</td>\n",
              "      <td>18.400000</td>\n",
              "      <td>18.710714</td>\n",
              "    </tr>\n",
              "    <tr>\n",
              "      <th>...</th>\n",
              "      <td>...</td>\n",
              "      <td>...</td>\n",
              "      <td>...</td>\n",
              "      <td>...</td>\n",
              "      <td>...</td>\n",
              "    </tr>\n",
              "    <tr>\n",
              "      <th>3907</th>\n",
              "      <td>2023-09-14</td>\n",
              "      <td>174.000000</td>\n",
              "      <td>176.100006</td>\n",
              "      <td>173.580002</td>\n",
              "      <td>175.740005</td>\n",
              "    </tr>\n",
              "    <tr>\n",
              "      <th>3908</th>\n",
              "      <td>2023-09-15</td>\n",
              "      <td>176.479996</td>\n",
              "      <td>176.500000</td>\n",
              "      <td>173.820007</td>\n",
              "      <td>175.009995</td>\n",
              "    </tr>\n",
              "    <tr>\n",
              "      <th>3909</th>\n",
              "      <td>2023-09-16</td>\n",
              "      <td>176.479996</td>\n",
              "      <td>179.380005</td>\n",
              "      <td>176.169998</td>\n",
              "      <td>177.970001</td>\n",
              "    </tr>\n",
              "    <tr>\n",
              "      <th>3910</th>\n",
              "      <td>2023-09-17</td>\n",
              "      <td>176.479996</td>\n",
              "      <td>179.380005</td>\n",
              "      <td>176.169998</td>\n",
              "      <td>177.970001</td>\n",
              "    </tr>\n",
              "    <tr>\n",
              "      <th>3911</th>\n",
              "      <td>2023-09-18</td>\n",
              "      <td>176.479996</td>\n",
              "      <td>179.380005</td>\n",
              "      <td>176.169998</td>\n",
              "      <td>177.970001</td>\n",
              "    </tr>\n",
              "  </tbody>\n",
              "</table>\n",
              "<p>3912 rows × 5 columns</p>\n",
              "</div>"
            ],
            "text/plain": [
              "           Date        Open        High         Low       Close\n",
              "0    2013-01-02   19.779285   19.821428   19.343929   19.608213\n",
              "1    2013-01-03   19.567142   19.631071   19.321428   19.360714\n",
              "2    2013-01-04   19.177500   19.236786   18.779642   18.821428\n",
              "3    2013-01-05   18.642857   18.903570   18.400000   18.710714\n",
              "4    2013-01-06   18.642857   18.903570   18.400000   18.710714\n",
              "...         ...         ...         ...         ...         ...\n",
              "3907 2023-09-14  174.000000  176.100006  173.580002  175.740005\n",
              "3908 2023-09-15  176.479996  176.500000  173.820007  175.009995\n",
              "3909 2023-09-16  176.479996  179.380005  176.169998  177.970001\n",
              "3910 2023-09-17  176.479996  179.380005  176.169998  177.970001\n",
              "3911 2023-09-18  176.479996  179.380005  176.169998  177.970001\n",
              "\n",
              "[3912 rows x 5 columns]"
            ]
          },
          "execution_count": 4,
          "metadata": {},
          "output_type": "execute_result"
        }
      ],
      "source": [
        "# Se tomará como ejemplo la empresa Apple; para las demás empresas es exactamente lo mismo\n",
        "df1=variable_selection(df, \"AAPL\")\n",
        "df1"
      ]
    },
    {
      "cell_type": "code",
      "execution_count": 5,
      "metadata": {
        "id": "u5xHuA6I1wN9"
      },
      "outputs": [],
      "source": [
        "# Función para el escalamiento de cada variable de manera individual\n",
        "def data_scaling(set_data):\n",
        "  set_data2=set_data.copy()\n",
        "  cols=set_data2.columns[1:]\n",
        "  list_mms=[MinMaxScaler() for c in set_data2.columns]\n",
        "\n",
        "  for i, c in enumerate(cols):\n",
        "    set_data2[c]=list_mms[i].fit_transform(set_data2[[c]])\n",
        "\n",
        "  # Debe retornar también el escalador de la variable a predecir, ya que será necesario para aplicar la operación inversa\n",
        "  return set_data2, list_mms[1]"
      ]
    },
    {
      "cell_type": "code",
      "execution_count": 6,
      "metadata": {
        "colab": {
          "base_uri": "https://localhost:8080/",
          "height": 424
        },
        "id": "sQug9DAh2u11",
        "outputId": "5d2c8592-9a23-4b1d-cc9b-0be21570bd90"
      },
      "outputs": [
        {
          "data": {
            "text/html": [
              "<div>\n",
              "<style scoped>\n",
              "    .dataframe tbody tr th:only-of-type {\n",
              "        vertical-align: middle;\n",
              "    }\n",
              "\n",
              "    .dataframe tbody tr th {\n",
              "        vertical-align: top;\n",
              "    }\n",
              "\n",
              "    .dataframe thead th {\n",
              "        text-align: right;\n",
              "    }\n",
              "</style>\n",
              "<table border=\"1\" class=\"dataframe\">\n",
              "  <thead>\n",
              "    <tr style=\"text-align: right;\">\n",
              "      <th></th>\n",
              "      <th>Date</th>\n",
              "      <th>Open</th>\n",
              "      <th>High</th>\n",
              "      <th>Low</th>\n",
              "      <th>Close</th>\n",
              "    </tr>\n",
              "  </thead>\n",
              "  <tbody>\n",
              "    <tr>\n",
              "      <th>0</th>\n",
              "      <td>2013-01-02</td>\n",
              "      <td>0.032477</td>\n",
              "      <td>0.030170</td>\n",
              "      <td>0.030796</td>\n",
              "      <td>0.031017</td>\n",
              "    </tr>\n",
              "    <tr>\n",
              "      <th>1</th>\n",
              "      <td>2013-01-03</td>\n",
              "      <td>0.031313</td>\n",
              "      <td>0.029135</td>\n",
              "      <td>0.030672</td>\n",
              "      <td>0.029661</td>\n",
              "    </tr>\n",
              "    <tr>\n",
              "      <th>2</th>\n",
              "      <td>2013-01-04</td>\n",
              "      <td>0.029177</td>\n",
              "      <td>0.026992</td>\n",
              "      <td>0.027688</td>\n",
              "      <td>0.026706</td>\n",
              "    </tr>\n",
              "    <tr>\n",
              "      <th>3</th>\n",
              "      <td>2013-01-05</td>\n",
              "      <td>0.026246</td>\n",
              "      <td>0.025180</td>\n",
              "      <td>0.025596</td>\n",
              "      <td>0.026099</td>\n",
              "    </tr>\n",
              "    <tr>\n",
              "      <th>4</th>\n",
              "      <td>2013-01-06</td>\n",
              "      <td>0.026246</td>\n",
              "      <td>0.025180</td>\n",
              "      <td>0.025596</td>\n",
              "      <td>0.026099</td>\n",
              "    </tr>\n",
              "    <tr>\n",
              "      <th>...</th>\n",
              "      <td>...</td>\n",
              "      <td>...</td>\n",
              "      <td>...</td>\n",
              "      <td>...</td>\n",
              "      <td>...</td>\n",
              "    </tr>\n",
              "    <tr>\n",
              "      <th>3907</th>\n",
              "      <td>2023-09-14</td>\n",
              "      <td>0.878059</td>\n",
              "      <td>0.879701</td>\n",
              "      <td>0.880458</td>\n",
              "      <td>0.886522</td>\n",
              "    </tr>\n",
              "    <tr>\n",
              "      <th>3908</th>\n",
              "      <td>2023-09-15</td>\n",
              "      <td>0.891657</td>\n",
              "      <td>0.881876</td>\n",
              "      <td>0.881780</td>\n",
              "      <td>0.882522</td>\n",
              "    </tr>\n",
              "    <tr>\n",
              "      <th>3909</th>\n",
              "      <td>2023-09-16</td>\n",
              "      <td>0.891657</td>\n",
              "      <td>0.897531</td>\n",
              "      <td>0.894726</td>\n",
              "      <td>0.898741</td>\n",
              "    </tr>\n",
              "    <tr>\n",
              "      <th>3910</th>\n",
              "      <td>2023-09-17</td>\n",
              "      <td>0.891657</td>\n",
              "      <td>0.897531</td>\n",
              "      <td>0.894726</td>\n",
              "      <td>0.898741</td>\n",
              "    </tr>\n",
              "    <tr>\n",
              "      <th>3911</th>\n",
              "      <td>2023-09-18</td>\n",
              "      <td>0.891657</td>\n",
              "      <td>0.897531</td>\n",
              "      <td>0.894726</td>\n",
              "      <td>0.898741</td>\n",
              "    </tr>\n",
              "  </tbody>\n",
              "</table>\n",
              "<p>3912 rows × 5 columns</p>\n",
              "</div>"
            ],
            "text/plain": [
              "           Date      Open      High       Low     Close\n",
              "0    2013-01-02  0.032477  0.030170  0.030796  0.031017\n",
              "1    2013-01-03  0.031313  0.029135  0.030672  0.029661\n",
              "2    2013-01-04  0.029177  0.026992  0.027688  0.026706\n",
              "3    2013-01-05  0.026246  0.025180  0.025596  0.026099\n",
              "4    2013-01-06  0.026246  0.025180  0.025596  0.026099\n",
              "...         ...       ...       ...       ...       ...\n",
              "3907 2023-09-14  0.878059  0.879701  0.880458  0.886522\n",
              "3908 2023-09-15  0.891657  0.881876  0.881780  0.882522\n",
              "3909 2023-09-16  0.891657  0.897531  0.894726  0.898741\n",
              "3910 2023-09-17  0.891657  0.897531  0.894726  0.898741\n",
              "3911 2023-09-18  0.891657  0.897531  0.894726  0.898741\n",
              "\n",
              "[3912 rows x 5 columns]"
            ]
          },
          "execution_count": 6,
          "metadata": {},
          "output_type": "execute_result"
        }
      ],
      "source": [
        "df2, mms = data_scaling(df1)\n",
        "df2"
      ]
    },
    {
      "cell_type": "code",
      "execution_count": 7,
      "metadata": {
        "colab": {
          "base_uri": "https://localhost:8080/"
        },
        "id": "qaEvcpnp6fDe",
        "outputId": "051cca78-9bcb-47e9-84ce-12c8a8dc1fdd"
      },
      "outputs": [
        {
          "name": "stdout",
          "output_type": "stream",
          "text": [
            "0.0 1.0\n",
            "0.0 0.9999999999999999\n",
            "0.0 1.0\n",
            "0.0 1.0\n"
          ]
        }
      ],
      "source": [
        "# Visualizando los valores mínimos y máximos de cada columna\n",
        "for c in df2.columns[1:]:\n",
        "  print(df2[c].min(), df2[c].max())"
      ]
    },
    {
      "cell_type": "code",
      "execution_count": 8,
      "metadata": {
        "colab": {
          "base_uri": "https://localhost:8080/"
        },
        "id": "TxeH7sXg87F3",
        "outputId": "d97c7055-f223-4a48-aefd-b66674082911"
      },
      "outputs": [
        {
          "data": {
            "text/plain": [
              "array([[ 19.821428],\n",
              "       [ 19.631071],\n",
              "       [ 19.236786],\n",
              "       ...,\n",
              "       [179.380005],\n",
              "       [179.380005],\n",
              "       [179.380005]])"
            ]
          },
          "execution_count": 8,
          "metadata": {},
          "output_type": "execute_result"
        }
      ],
      "source": [
        "# Comprobando que el escalador es correcto\n",
        "df1[[\"High\"]].values"
      ]
    },
    {
      "cell_type": "code",
      "execution_count": 9,
      "metadata": {
        "colab": {
          "base_uri": "https://localhost:8080/"
        },
        "id": "b3ZY8vnH8znN",
        "outputId": "05242ffd-d798-4458-f24e-0ab79553403d"
      },
      "outputs": [
        {
          "data": {
            "text/plain": [
              "array([[ 19.821428],\n",
              "       [ 19.631071],\n",
              "       [ 19.236786],\n",
              "       ...,\n",
              "       [179.380005],\n",
              "       [179.380005],\n",
              "       [179.380005]])"
            ]
          },
          "execution_count": 9,
          "metadata": {},
          "output_type": "execute_result"
        }
      ],
      "source": [
        "mms.inverse_transform(df2[[\"High\"]])"
      ]
    },
    {
      "cell_type": "code",
      "execution_count": 10,
      "metadata": {
        "id": "Obzan3aZ6FN2"
      },
      "outputs": [],
      "source": [
        "# Función para Separar el set de datos en entrenamiento y testeo\n",
        "def train_test_split(set_data):\n",
        "  set_train=set_data[set_data.Date<=\"2021-12-31\"]\n",
        "  set_test=set_data[set_data.Date>\"2021-12-31\"]\n",
        "\n",
        "  return set_train.iloc[:, 1:].values, set_test.iloc[:, 1:].values"
      ]
    },
    {
      "cell_type": "code",
      "execution_count": 11,
      "metadata": {
        "id": "1G34uAVT7Wg9"
      },
      "outputs": [],
      "source": [
        "# Hallando los sets de entrenamiento y testeo\n",
        "set_train, set_test = train_test_split(df2)"
      ]
    },
    {
      "cell_type": "code",
      "execution_count": 12,
      "metadata": {
        "colab": {
          "base_uri": "https://localhost:8080/"
        },
        "id": "00cbeFm9lgrK",
        "outputId": "3348ee05-212e-4484-88cf-6966b0f562f7"
      },
      "outputs": [
        {
          "data": {
            "text/plain": [
              "((3286, 4), (626, 4))"
            ]
          },
          "execution_count": 12,
          "metadata": {},
          "output_type": "execute_result"
        }
      ],
      "source": [
        "# Dimensiones de cada set\n",
        "set_train.shape, set_test.shape"
      ]
    },
    {
      "cell_type": "code",
      "execution_count": 13,
      "metadata": {
        "colab": {
          "base_uri": "https://localhost:8080/"
        },
        "id": "zRWMzgTWln7j",
        "outputId": "88df1f16-2535-4be0-d70f-8df60f599a40"
      },
      "outputs": [
        {
          "data": {
            "text/plain": [
              "16.0"
            ]
          },
          "execution_count": 13,
          "metadata": {},
          "output_type": "execute_result"
        }
      ],
      "source": [
        "# El tamaño del set de testeo corresponde al 16% del set general\n",
        "round(set_test.shape[0]/df2.shape[0],2)*100"
      ]
    },
    {
      "cell_type": "code",
      "execution_count": 14,
      "metadata": {
        "colab": {
          "base_uri": "https://localhost:8080/"
        },
        "id": "n9dVwlLy96Fv",
        "outputId": "3191d46d-cd36-4427-d411-90eb753a4417"
      },
      "outputs": [
        {
          "data": {
            "text/plain": [
              "array([[0.03247662, 0.03016983, 0.03079639, 0.03101718],\n",
              "       [0.03131345, 0.02913505, 0.03067243, 0.02966104],\n",
              "       [0.02917707, 0.02699171, 0.02768782, 0.02670609],\n",
              "       ...,\n",
              "       [0.90728348, 0.90432633, 0.90557849, 0.90646708],\n",
              "       [0.90805109, 0.90400018, 0.90530303, 0.90000137],\n",
              "       [0.90048461, 0.89671587, 0.90073069, 0.89654942]])"
            ]
          },
          "execution_count": 14,
          "metadata": {},
          "output_type": "execute_result"
        }
      ],
      "source": [
        "# Visualizando el array de testeo\n",
        "set_train"
      ]
    },
    {
      "cell_type": "code",
      "execution_count": 15,
      "metadata": {
        "id": "C_CqZcRB7zmD"
      },
      "outputs": [],
      "source": [
        "# Función general para hallar x e y de los sets de cualquier tipo de forecasting\n",
        "\n",
        "def find_xy(array, input_len, output_len):\n",
        "  row, col = array.shape[0], array.shape[1]\n",
        "  x, y = [], []\n",
        "\n",
        "  for i in range(row-input_len-output_len+1):\n",
        "    x.append(array[i:i+input_len])\n",
        "    y.append(array[i+input_len:i+input_len+output_len, 1].reshape(output_len, 1))\n",
        "\n",
        "  x=np.array(x)\n",
        "  y=np.array(y)\n",
        "\n",
        "  return x, y"
      ]
    },
    {
      "cell_type": "markdown",
      "metadata": {
        "id": "wpZR4pKGoacU"
      },
      "source": [
        "**OBSERVACIÓN:** La elección de una ventana de 90 días permite capturar patrones de series de tiempo a largo plazo, lo cual es crucial en pronósticos financieros. El pronóstico de 7 días futuros es práctico para la toma de decisiones a corto plazo y ofrece una visión semanal útil para los inversores. Esta configuración equilibra la memoria a largo plazo con la capacidad de respuesta a cambios recientes en los datos."
      ]
    },
    {
      "cell_type": "code",
      "execution_count": 16,
      "metadata": {
        "colab": {
          "base_uri": "https://localhost:8080/"
        },
        "id": "Z8wMBoMY-p4_",
        "outputId": "42b2b929-f17c-4283-f912-76ed8e4b49ff"
      },
      "outputs": [
        {
          "name": "stdout",
          "output_type": "stream",
          "text": [
            "Set de entrenamiento - x_train: (3190, 90, 4), y_train: (3190, 7, 1)\n",
            "Set de prueba - x_test: (530, 90, 4), y_test: (530, 7, 1)\n"
          ]
        }
      ],
      "source": [
        "input_len=90\n",
        "output_len=7\n",
        "\n",
        "x_train, y_train = find_xy(set_train, input_len, output_len)\n",
        "x_test, y_test = find_xy(set_test, input_len, output_len)\n",
        "\n",
        "print(f\"Set de entrenamiento - x_train: {x_train.shape}, y_train: {y_train.shape}\")\n",
        "print(f\"Set de prueba - x_test: {x_test.shape}, y_test: {y_test.shape}\")"
      ]
    },
    {
      "cell_type": "code",
      "execution_count": 17,
      "metadata": {
        "colab": {
          "base_uri": "https://localhost:8080/",
          "height": 392
        },
        "id": "2dzsOA0fpKLU",
        "outputId": "a9f63bef-9d66-47c5-afd5-fc71ae1aa912"
      },
      "outputs": [
        {
          "data": {
            "image/png": "[encoded data removed]",
            "text/plain": [
              "<Figure size 1000x400 with 1 Axes>"
            ]
          },
          "metadata": {},
          "output_type": "display_data"
        }
      ],
      "source": [
        "# Gráfica de violín para ver la distribución de los valores en cada covariable\n",
        "cols=x_train.shape[2]\n",
        "fig, ax = plt.subplots(figsize=(10,4))\n",
        "col_name=df1.columns[1:]\n",
        "\n",
        "for i in range(cols):\n",
        "    ax.violinplot(dataset=x_train[:,:,i].flatten(), positions=[i])\n",
        "    ax.violinplot(dataset=x_test[:,:,i].flatten(), positions=[i])\n",
        "\n",
        "# Etiquetas del eje horizontal\n",
        "ax.set_xticks(list(range(cols)))\n",
        "ax.set_xticklabels(col_name, rotation=90)\n",
        "ax.autoscale();"
      ]
    },
    {
      "cell_type": "code",
      "execution_count": 18,
      "metadata": {
        "colab": {
          "base_uri": "https://localhost:8080/",
          "height": 368
        },
        "id": "l8BC_MOrp7Ws",
        "outputId": "311cc93c-f400-4416-f1df-dbd838ad2984"
      },
      "outputs": [
        {
          "data": {
            "image/png": "[encoded data removed]",
            "text/plain": [
              "<Figure size 600x400 with 1 Axes>"
            ]
          },
          "metadata": {},
          "output_type": "display_data"
        }
      ],
      "source": [
        "# Gráfica de violín para ver la distribución de los valores de la variable de salida\n",
        "fig, ax = plt.subplots(figsize=(6,4))\n",
        "ax.violinplot(dataset=y_train.flatten())\n",
        "ax.violinplot(dataset=y_test.flatten())\n",
        "ax.set_xticks([1])\n",
        "ax.set_xticklabels([\"y (salida)\"]);"
      ]
    },
    {
      "cell_type": "markdown",
      "metadata": {
        "id": "GcGNzn6zrmK0"
      },
      "source": [
        "Se observa que el rango de x e y tanto de entrenamiento y prueba están en el rango específico que planteamos anteriormente. Además, para esta empresa en particular y para casi la mayoría de empresas, se puede ver nuevamente un comportamiento creciente en los últimos años, ya que el gráfico de violín del set de testeo se encuentra en la parte superior de la gráfica."
      ]
    },
    {
      "cell_type": "markdown",
      "metadata": {
        "id": "DJ3txurqsnxT"
      },
      "source": [
        "**CONCLUSIÓN:** Al revisar todos los pasos previos, se evidencia el éxito en la implementación de las funciones para la etapa de Feature Creation. Estas funciones se combinarán en una única función para su aplicación en los conjuntos de datos de cada empresa con el modelo de red LSTM."
      ]
    },
    {
      "cell_type": "code",
      "execution_count": 39,
      "metadata": {
        "id": "U6eeHMSMtPTl"
      },
      "outputs": [],
      "source": [
        "# Función unificada\n",
        "def feature_creation(df, company, input_len, output_len):\n",
        "\n",
        "  def variable_selection(df, company):\n",
        "    df2=df.copy()\n",
        "    df2=df2[df2.id_company==company]\n",
        "    df2=df2.iloc[:, :5].reset_index(drop=True)\n",
        "    return df2\n",
        "\n",
        "  df1=variable_selection(df, company)\n",
        "\n",
        "  def data_scaling(set_data):\n",
        "    set_data2=set_data.copy()\n",
        "    cols=set_data2.columns[1:]\n",
        "    list_mms=[MinMaxScaler() for c in set_data2.columns]\n",
        "    for i, c in enumerate(cols):\n",
        "      set_data2[c]=list_mms[i].fit_transform(set_data2[[c]])\n",
        "    return set_data2, list_mms[1]\n",
        "\n",
        "  df2, mms = data_scaling(df1)\n",
        "\n",
        "  def train_test_split(set_data):\n",
        "    set_train=set_data[set_data.Date<=\"2021-12-31\"]\n",
        "    set_test=set_data[set_data.Date>\"2021-12-31\"]\n",
        "    return set_train.iloc[:, 1:].values, set_test.iloc[:, 1:].values\n",
        "\n",
        "  set_train, set_test = train_test_split(df2)\n",
        "\n",
        "  def find_xy(array, input_len, output_len):\n",
        "    row, col = array.shape[0], array.shape[1]\n",
        "    x, y = [], []\n",
        "    for i in range(row-input_len-output_len+1):\n",
        "      x.append(array[i:i+input_len])\n",
        "      y.append(array[i+input_len:i+input_len+output_len, 1].reshape(output_len, 1))\n",
        "    x=np.array(x)\n",
        "    y=np.array(y)\n",
        "    return x, y\n",
        "\n",
        "  x_train, y_train = find_xy(set_train, input_len, output_len)\n",
        "  x_test, y_test = find_xy(set_test, input_len, output_len)\n",
        "\n",
        "  return x_train, y_train, x_test, y_test, mms"
      ]
    }
  ],
  "metadata": {
    "accelerator": "GPU",
    "colab": {
      "gpuType": "T4",
      "provenance": []
    },
    "kernelspec": {
      "display_name": "Python 3",
      "name": "python3"
    },
    "language_info": {
      "codemirror_mode": {
        "name": "ipython",
        "version": 3
      },
      "file_extension": ".py",
      "mimetype": "text/x-python",
      "name": "python",
      "nbconvert_exporter": "python",
      "pygments_lexer": "ipython3",
      "version": "3.9.2"
    }
  },
  "nbformat": 4,
  "nbformat_minor": 0
}
