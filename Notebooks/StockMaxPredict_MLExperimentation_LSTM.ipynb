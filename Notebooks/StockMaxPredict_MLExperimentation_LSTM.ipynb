{
 "cells": [
  {
   "cell_type": "markdown",
   "metadata": {},
   "source": [
    "**OBSERVACIÓN: Se llevará a cabo un experimento utilizando diversos algoritmos de regresión de Machine Learning utilizando Apache Spark con el objetivo de predecir la variable 'High' para cumplir con las consignas del proyecto. Este experimento solo se tomará en cuenta la empresa Apple y tiene como finalidad demostrar la necesidad de emplear un modelo de Deep Learning basado en redes LSTM para realizar pronósticos sobre los valores máximos de las acciones de las empresas. En este proceso se considerarán las mismas variables de entrada y salida que el modelo de DL**"
   ]
  },
  {
   "cell_type": "markdown",
   "metadata": {},
   "source": [
    "### **Multiple Linear Regression**"
   ]
  },
  {
   "cell_type": "code",
   "execution_count": 1,
   "metadata": {},
   "outputs": [],
   "source": [
    "# Importación de librerías\n",
    "from pyspark.sql import SparkSession\n",
    "from pyspark.sql.functions import col\n",
    "from pyspark.ml.feature import VectorAssembler, Normalizer\n",
    "from pyspark.ml.regression import LinearRegression\n",
    "from pyspark.ml import Pipeline\n",
    "from pyspark.ml.evaluation import RegressionEvaluator"
   ]
  },
  {
   "cell_type": "code",
   "execution_count": 2,
   "metadata": {},
   "outputs": [],
   "source": [
    "# Creación de una sesión de Apache Spark\n",
    "spark=SparkSession.builder.getOrCreate()"
   ]
  },
  {
   "cell_type": "code",
   "execution_count": 3,
   "metadata": {},
   "outputs": [
    {
     "name": "stdout",
     "output_type": "stream",
     "text": [
      "+----------+----------+----------+----------+----------+----------+---------+----------+\n",
      "|      Date|      Open|      High|       Low|     Close| Adj Close|   Volume|id_company|\n",
      "+----------+----------+----------+----------+----------+----------+---------+----------+\n",
      "|2013-01-02| 19.779285| 19.821428| 19.343929| 19.608213| 16.791185|560518000|      AAPL|\n",
      "|2013-01-02|     27.25|     27.73|     27.15| 27.620001| 22.620338| 52899300|      MSFT|\n",
      "|2013-01-02|  2.333333|  2.363333|     2.314|  2.357333|  2.357333| 17922000|      TSLA|\n",
      "|2013-01-02|    12.804|    12.905|    12.663|   12.8655|   12.8655| 65420000|      AMZN|\n",
      "|2013-01-02| 17.918339|  18.10713| 17.846855| 18.013729| 18.013729|102033017|      GOOG|\n",
      "|2013-01-02|185.554489|187.715103|185.277252|187.715103| 122.39386|  4428869|       IBM|\n",
      "|2013-01-02| 27.440001|     28.18|     27.42|      28.0|      28.0| 69846400|      META|\n",
      "|2013-01-03| 27.629999|     27.65|     27.16|     27.25| 22.317314| 48294400|      MSFT|\n",
      "|2013-01-03| 27.879999| 28.469999|     27.59|     27.77|     27.77| 63140600|      META|\n",
      "|2013-01-03| 19.567142| 19.631071| 19.321428| 19.360714| 16.579243|352965200|      AAPL|\n",
      "|2013-01-03|  2.345333|  2.363333|  2.316667|     2.318|     2.318| 11130000|      TSLA|\n",
      "|2013-01-03|   12.8635|    13.044|   12.8185|    12.924|    12.924| 55018000|      AMZN|\n",
      "|2013-01-03| 18.055573| 18.229919| 17.950716| 18.024191| 18.024191| 93075567|      GOOG|\n",
      "|2013-01-03|187.065002|187.657745|185.889099|186.682602|121.720604|  3812356|       IBM|\n",
      "|2013-01-04|   19.1775| 19.236786| 18.779642| 18.821428| 16.117437|594333600|      AAPL|\n",
      "|2013-01-04|     27.27|     27.34|     26.73|     26.74| 21.899633| 52521100|      MSFT|\n",
      "|2013-01-04|    12.879|     12.99|   12.8325|   12.9575|   12.9575| 37484000|      AMZN|\n",
      "|2013-01-04|     28.01|     28.93|     27.83|     28.76|     28.76| 72715400|      META|\n",
      "|2013-01-04|      2.32|      2.32|  2.261333|  2.293333|  2.293333| 10110000|      TSLA|\n",
      "|2013-01-04| 18.165413| 18.467529| 18.124067| 18.380356| 18.380356|110954331|      GOOG|\n",
      "+----------+----------+----------+----------+----------+----------+---------+----------+\n",
      "only showing top 20 rows\n",
      "\n"
     ]
    }
   ],
   "source": [
    "# Carga de datos\n",
    "df=spark.read.csv(\"../DataStorage/datasets_company_etl.csv\", header=True, inferSchema=True)\n",
    "df.show()"
   ]
  },
  {
   "cell_type": "code",
   "execution_count": 4,
   "metadata": {},
   "outputs": [
    {
     "name": "stdout",
     "output_type": "stream",
     "text": [
      "root\n",
      " |-- Date: date (nullable = true)\n",
      " |-- Open: double (nullable = true)\n",
      " |-- High: double (nullable = true)\n",
      " |-- Low: double (nullable = true)\n",
      " |-- Close: double (nullable = true)\n",
      " |-- Adj Close: double (nullable = true)\n",
      " |-- Volume: integer (nullable = true)\n",
      " |-- id_company: string (nullable = true)\n",
      "\n"
     ]
    }
   ],
   "source": [
    "# Tipo de datos\n",
    "df.printSchema()"
   ]
  },
  {
   "cell_type": "code",
   "execution_count": 5,
   "metadata": {},
   "outputs": [
    {
     "data": {
      "text/plain": [
       "(27384, 8)"
      ]
     },
     "execution_count": 5,
     "metadata": {},
     "output_type": "execute_result"
    }
   ],
   "source": [
    "# Cantidad de filas y columnas\n",
    "df.count(), len(df.columns)"
   ]
  },
  {
   "cell_type": "code",
   "execution_count": 6,
   "metadata": {},
   "outputs": [],
   "source": [
    "# Función para la selección de variables y para la separacion en entrenamiento y validación\n",
    "def randomSplit(df, company):\n",
    "  df2=df.filter(df.id_company==company)\n",
    "  set_train=df2.filter(col(\"Date\")<=\"2021-12-31\")\n",
    "  set_test=df2.filter(col(\"Date\")>\"2021-12-31\")\n",
    "  set_train=set_train.select(set_train.columns[1:5])\n",
    "  set_test=set_test.select(set_test.columns[1:5])\n",
    "\n",
    "  return set_train, set_test"
   ]
  },
  {
   "cell_type": "code",
   "execution_count": 7,
   "metadata": {},
   "outputs": [],
   "source": [
    "set_train, set_test = randomSplit(df, \"AAPL\")"
   ]
  },
  {
   "cell_type": "code",
   "execution_count": 9,
   "metadata": {},
   "outputs": [],
   "source": [
    "# Creación del Pipeline\n",
    "va=VectorAssembler(inputCols=set_train.columns, outputCol=\"features\")\n",
    "n=Normalizer(inputCol=\"features\", outputCol=\"features_nom\")\n",
    "lr=LinearRegression(featuresCol=\"features_nom\", labelCol=\"High\")\n",
    "\n",
    "p=Pipeline(stages=[va,n,lr])\n",
    "model=p.fit(set_train)"
   ]
  },
  {
   "cell_type": "code",
   "execution_count": 10,
   "metadata": {},
   "outputs": [],
   "source": [
    "# Predicciones con el set de entrenamiento\n",
    "set_pred_train=model.transform(set_train)"
   ]
  },
  {
   "cell_type": "code",
   "execution_count": 11,
   "metadata": {},
   "outputs": [
    {
     "name": "stdout",
     "output_type": "stream",
     "text": [
      "+----------+----------+----------+----------+---------------------------------------------+-------------------------------------------------------------------------------+------------------+\n",
      "|Open      |High      |Low       |Close     |features                                     |features_nom                                                                   |prediction        |\n",
      "+----------+----------+----------+----------+---------------------------------------------+-------------------------------------------------------------------------------+------------------+\n",
      "|177.830002|182.880005|177.710007|182.009995|[177.830002,182.880005,177.710007,182.009995]|[0.49363508139088613,0.5076532932443012,0.4933019894439406,0.5052382482444091] |62.18507756150211 |\n",
      "|177.830002|182.880005|177.710007|182.009995|[177.830002,182.880005,177.710007,182.009995]|[0.49363508139088613,0.5076532932443012,0.4933019894439406,0.5052382482444091] |62.18507756150211 |\n",
      "|177.830002|182.880005|177.710007|182.009995|[177.830002,182.880005,177.710007,182.009995]|[0.49363508139088613,0.5076532932443012,0.4933019894439406,0.5052382482444091] |62.18507756150211 |\n",
      "|182.630005|182.940002|179.119995|179.699997|[182.630005,182.940002,179.119995,179.699997]|[0.5042088556577846,0.5050647020595155,0.49451834436722536,0.4961196263947828] |52.6776828422735  |\n",
      "|179.610001|180.169998|174.639999|174.919998|[179.610001,180.169998,174.639999,174.919998]|[0.5063614711824554,0.5079402301780515,0.4923499043961508,0.4931392853035626]  |57.88863761222456 |\n",
      "|172.699997|175.300003|171.639999|172.0     |[172.699997,175.300003,171.639999,172.0]     |[0.4993756255357174,0.5068937473955958,0.4963105579415552,0.4973515291499594]  |54.972590461256914|\n",
      "|172.889999|174.139999|171.029999|172.169998|[172.889999,174.139999,171.029999,172.169998]|[0.5009527261437794,0.5045746297316193,0.49556333360507376,0.4988665067796608] |52.48100206973322 |\n",
      "|169.080002|172.5     |168.169998|172.190002|[169.080002,172.5,168.169998,172.190002]     |[0.4958489125317666,0.5058784977523819,0.49318020843629606,0.5049693886361718] |60.01063745038118 |\n",
      "|169.080002|172.5     |168.169998|172.190002|[169.080002,172.5,168.169998,172.190002]     |[0.4958489125317666,0.5058784977523819,0.49318020843629606,0.5049693886361718] |60.01063745038118 |\n",
      "|169.080002|172.5     |168.169998|172.190002|[169.080002,172.5,168.169998,172.190002]     |[0.4958489125317666,0.5058784977523819,0.49318020843629606,0.5049693886361718] |60.01063745038118 |\n",
      "|172.320007|175.179993|170.820007|175.080002|[172.320007,175.179993,170.820007,175.080002]|[0.4970006092987197,0.5052493020032517,0.4926743506887831,0.5049609107201409]  |59.86932619760046 |\n",
      "|176.119995|177.179993|174.820007|175.529999|[176.119995,177.179993,174.820007,175.529999]|[0.5005837271264352,0.5035965465941314,0.49688878699053735,0.49890678864668064]|47.935672523177345|\n",
      "|175.779999|176.619995|171.789993|172.190002|[175.779999,176.619995,171.789993,172.190002]|[0.5048015177009534,0.5072138015675764,0.49334309753998895,0.49449183545922193]|57.22060401630006 |\n",
      "|171.339996|173.779999|171.089996|173.070007|[171.339996,173.779999,171.089996,173.070007]|[0.49714562881265395,0.5042253349761802,0.49642024997464373,0.5021652822883539]|51.12320909727714 |\n",
      "|171.509995|172.539993|169.410004|169.800003|[171.509995,172.539993,169.410004,169.800003]|[0.5020204542524194,0.5050353226502587,0.4958736495968306,0.49701520099818186] |51.58429641480325 |\n",
      "|171.509995|172.539993|169.410004|169.800003|[171.509995,172.539993,169.410004,169.800003]|[0.5020204542524194,0.5050353226502587,0.4958736495968306,0.49701520099818186] |51.58429641480325 |\n",
      "|171.509995|172.539993|169.410004|169.800003|[171.509995,172.539993,169.410004,169.800003]|[0.5020204542524194,0.5050353226502587,0.4958736495968306,0.49701520099818186] |51.58429641480325 |\n",
      "|171.509995|172.539993|169.410004|169.800003|[171.509995,172.539993,169.410004,169.800003]|[0.5020204542524194,0.5050353226502587,0.4958736495968306,0.49701520099818186] |51.58429641480325 |\n",
      "|170.0     |171.080002|165.940002|166.229996|[170.0,171.080002,165.940002,166.229996]     |[0.5049673837796651,0.5081754178056463,0.49290758043724936,0.4937689775636717] |58.894150591266225|\n",
      "|166.979996|169.679993|164.179993|164.509995|[166.979996,169.679993,164.179993,164.509995]|[0.5018869259282154,0.5100022285201822,0.49347103820559396,0.4944629156358112] |62.877467076454195|\n",
      "+----------+----------+----------+----------+---------------------------------------------+-------------------------------------------------------------------------------+------------------+\n",
      "only showing top 20 rows\n",
      "\n"
     ]
    }
   ],
   "source": [
    "# Predicciones con el set de evaluación\n",
    "set_pred_test=model.transform(set_test)\n",
    "set_pred_test.show(truncate=False)"
   ]
  },
  {
   "cell_type": "code",
   "execution_count": 12,
   "metadata": {},
   "outputs": [
    {
     "name": "stdout",
     "output_type": "stream",
     "text": [
      "+----------+------------------+\n",
      "|      High|        prediction|\n",
      "+----------+------------------+\n",
      "|182.880005| 62.18507756150211|\n",
      "|182.880005| 62.18507756150211|\n",
      "|182.880005| 62.18507756150211|\n",
      "|182.940002|  52.6776828422735|\n",
      "|180.169998| 57.88863761222456|\n",
      "|175.300003|54.972590461256914|\n",
      "|174.139999| 52.48100206973322|\n",
      "|     172.5| 60.01063745038118|\n",
      "|     172.5| 60.01063745038118|\n",
      "|     172.5| 60.01063745038118|\n",
      "|175.179993| 59.86932619760046|\n",
      "|177.179993|47.935672523177345|\n",
      "|176.619995| 57.22060401630006|\n",
      "|173.779999| 51.12320909727714|\n",
      "|172.539993| 51.58429641480325|\n",
      "|172.539993| 51.58429641480325|\n",
      "|172.539993| 51.58429641480325|\n",
      "|172.539993| 51.58429641480325|\n",
      "|171.080002|58.894150591266225|\n",
      "|169.679993|62.877467076454195|\n",
      "+----------+------------------+\n",
      "only showing top 20 rows\n",
      "\n"
     ]
    }
   ],
   "source": [
    "# Comparando los valores\n",
    "set_pred_test.select(\"High\",\"prediction\").show()"
   ]
  },
  {
   "cell_type": "markdown",
   "metadata": {},
   "source": [
    "Se observa que los valores predichos de `High` difieren demasiado de los valores reales"
   ]
  },
  {
   "cell_type": "code",
   "execution_count": 13,
   "metadata": {},
   "outputs": [
    {
     "name": "stdout",
     "output_type": "stream",
     "text": [
      "Raíz del error cuadrático medio (RMSE) Train/Test:  39.172379547162436 108.42198179714659\n",
      "Coeficiente de determinación (R^2) Train/Test: 0.03916443405997194 -41.99349921874794\n"
     ]
    }
   ],
   "source": [
    "# Evaluando el modelo\n",
    "rmse_train=RegressionEvaluator(labelCol=\"High\", predictionCol=\"prediction\", metricName=\"rmse\").evaluate(set_pred_train)\n",
    "r2_train=RegressionEvaluator(labelCol=\"High\", predictionCol=\"prediction\", metricName=\"r2\").evaluate(set_pred_train)\n",
    "\n",
    "rmse_test=RegressionEvaluator(labelCol=\"High\", predictionCol=\"prediction\", metricName=\"rmse\").evaluate(set_pred_test)\n",
    "r2_test=RegressionEvaluator(labelCol=\"High\", predictionCol=\"prediction\", metricName=\"r2\").evaluate(set_pred_test)\n",
    "\n",
    "print(\"Raíz del error cuadrático medio (RMSE) Train/Test: \", rmse_train, rmse_test)\n",
    "print(\"Coeficiente de determinación (R^2) Train/Test:\",r2_train, r2_test)"
   ]
  },
  {
   "cell_type": "markdown",
   "metadata": {},
   "source": [
    "**CONCLUSIÓN:** El modelo de regresión lineal múltiple se desempeña deficientemente, ya que presenta un elevado RMSE en los conjuntos de entrenamiento y prueba, alejándose considerablemente de 0. Asimismo, los valores de R^2 para el entrenamiento y la prueba distan significativamente de 1, incluso alcanzando valores negativos en el conjunto de prueba. Esta situación refleja la presencia tanto de overfitting como de underfitting. El overfitting se evidencia en las notables diferencias entre los valores de RMSE y R^2 en los conjuntos de entrenamiento y validación. Por otro lado, el underfitting se manifiesta en la incapacidad del modelo para acercarse a los valores ideales de un RMSE cercano a 0 y un R^2 cercano a 1."
   ]
  },
  {
   "cell_type": "markdown",
   "metadata": {},
   "source": [
    "---"
   ]
  },
  {
   "cell_type": "markdown",
   "metadata": {},
   "source": [
    "### **Decision Tree Regression**"
   ]
  },
  {
   "cell_type": "code",
   "execution_count": null,
   "metadata": {},
   "outputs": [],
   "source": [
    "# Importación de librerías\n",
    "from pyspark.ml.regression import DecisionTreeRegressor"
   ]
  },
  {
   "cell_type": "code",
   "execution_count": 18,
   "metadata": {},
   "outputs": [],
   "source": [
    "# Creación del Pipeline\n",
    "va=VectorAssembler(inputCols=set_train.columns, outputCol=\"features\")\n",
    "n=Normalizer(inputCol=\"features\", outputCol=\"features_nom\")\n",
    "dtc=DecisionTreeRegressor(featuresCol=\"features_nom\", labelCol=\"High\")\n",
    "\n",
    "p=Pipeline(stages=[va,n,dtc])\n",
    "model=p.fit(set_train)"
   ]
  },
  {
   "cell_type": "code",
   "execution_count": 19,
   "metadata": {},
   "outputs": [],
   "source": [
    "# Predicciones con el set de entrenamiento y prueba\n",
    "set_pred_train=model.transform(set_train)\n",
    "set_pred_test=model.transform(set_test)"
   ]
  },
  {
   "cell_type": "code",
   "execution_count": 20,
   "metadata": {},
   "outputs": [
    {
     "name": "stdout",
     "output_type": "stream",
     "text": [
      "+----------+------------------+\n",
      "|      High|        prediction|\n",
      "+----------+------------------+\n",
      "|182.880005| 60.24960954362414|\n",
      "|182.880005| 60.24960954362414|\n",
      "|182.880005| 60.24960954362414|\n",
      "|182.940002| 39.69195310897436|\n",
      "|180.169998| 49.36390479999997|\n",
      "|175.300003|59.788804069767444|\n",
      "|174.139999| 49.59807939955356|\n",
      "|     172.5| 84.75508079130434|\n",
      "|     172.5| 84.75508079130434|\n",
      "|     172.5| 84.75508079130434|\n",
      "|175.179993| 55.01543199246704|\n",
      "|177.179993| 49.59807939955356|\n",
      "|176.619995| 71.57900331666666|\n",
      "|173.779999| 49.59807939955356|\n",
      "|172.539993| 39.69195310897436|\n",
      "|172.539993| 39.69195310897436|\n",
      "|172.539993| 39.69195310897436|\n",
      "|172.539993| 39.69195310897436|\n",
      "|171.080002| 71.57900331666666|\n",
      "|169.679993| 71.57900331666666|\n",
      "+----------+------------------+\n",
      "only showing top 20 rows\n",
      "\n"
     ]
    }
   ],
   "source": [
    "# Comparando los valores\n",
    "set_pred_test.select(\"High\",\"prediction\").show()"
   ]
  },
  {
   "cell_type": "code",
   "execution_count": 21,
   "metadata": {},
   "outputs": [
    {
     "name": "stdout",
     "output_type": "stream",
     "text": [
      "Raíz del error cuadrático medio (RMSE) Train/Test:  37.97788866350019 109.2935491357414\n",
      "Coeficiente de determinación (R^2) Train/Test: 0.09686890220765776 -42.68749761825537\n"
     ]
    }
   ],
   "source": [
    "# Evaluando el modelo\n",
    "rmse_train=RegressionEvaluator(labelCol=\"High\", predictionCol=\"prediction\", metricName=\"rmse\").evaluate(set_pred_train)\n",
    "r2_train=RegressionEvaluator(labelCol=\"High\", predictionCol=\"prediction\", metricName=\"r2\").evaluate(set_pred_train)\n",
    "\n",
    "rmse_test=RegressionEvaluator(labelCol=\"High\", predictionCol=\"prediction\", metricName=\"rmse\").evaluate(set_pred_test)\n",
    "r2_test=RegressionEvaluator(labelCol=\"High\", predictionCol=\"prediction\", metricName=\"r2\").evaluate(set_pred_test)\n",
    "\n",
    "print(\"Raíz del error cuadrático medio (RMSE) Train/Test: \", rmse_train, rmse_test)\n",
    "print(\"Coeficiente de determinación (R^2) Train/Test:\",r2_train, r2_test)"
   ]
  },
  {
   "cell_type": "markdown",
   "metadata": {},
   "source": [
    "---"
   ]
  },
  {
   "cell_type": "markdown",
   "metadata": {},
   "source": [
    "### **Random Forest Regression**"
   ]
  },
  {
   "cell_type": "code",
   "execution_count": 22,
   "metadata": {},
   "outputs": [],
   "source": [
    "# Importación de librerías\n",
    "from pyspark.ml.regression import RandomForestRegressor"
   ]
  },
  {
   "cell_type": "code",
   "execution_count": 23,
   "metadata": {},
   "outputs": [],
   "source": [
    "# Creación del Pipeline\n",
    "va=VectorAssembler(inputCols=set_train.columns, outputCol=\"features\")\n",
    "n=Normalizer(inputCol=\"features\", outputCol=\"features_nom\")\n",
    "rfr=RandomForestRegressor(featuresCol=\"features_nom\", labelCol=\"High\")\n",
    "\n",
    "p=Pipeline(stages=[va,n,rfr])\n",
    "model=p.fit(set_train)"
   ]
  },
  {
   "cell_type": "code",
   "execution_count": 24,
   "metadata": {},
   "outputs": [],
   "source": [
    "# Predicciones con el set de entrenamiento y prueba\n",
    "set_pred_train=model.transform(set_train)\n",
    "set_pred_test=model.transform(set_test)"
   ]
  },
  {
   "cell_type": "code",
   "execution_count": 25,
   "metadata": {},
   "outputs": [
    {
     "name": "stdout",
     "output_type": "stream",
     "text": [
      "+----------+------------------+\n",
      "|      High|        prediction|\n",
      "+----------+------------------+\n",
      "|182.880005|60.418298149815016|\n",
      "|182.880005|60.418298149815016|\n",
      "|182.880005|60.418298149815016|\n",
      "|182.940002| 43.72108920098153|\n",
      "|180.169998| 50.08421014621072|\n",
      "|175.300003|56.306436315952816|\n",
      "|174.139999| 51.89232093337175|\n",
      "|     172.5| 73.44624403945694|\n",
      "|     172.5| 73.44624403945694|\n",
      "|     172.5| 73.44624403945694|\n",
      "|175.179993| 74.80906281849482|\n",
      "|177.179993|51.539075159885286|\n",
      "|176.619995|62.684684616115874|\n",
      "|173.779999| 51.62433304738249|\n",
      "|172.539993|  46.5966134665981|\n",
      "|172.539993|  46.5966134665981|\n",
      "|172.539993|  46.5966134665981|\n",
      "|172.539993|  46.5966134665981|\n",
      "|171.080002| 63.85941027895376|\n",
      "|169.679993| 83.88254465208314|\n",
      "+----------+------------------+\n",
      "only showing top 20 rows\n",
      "\n"
     ]
    }
   ],
   "source": [
    "# Comparando los valores\n",
    "set_pred_test.select(\"High\",\"prediction\").show()"
   ]
  },
  {
   "cell_type": "code",
   "execution_count": 26,
   "metadata": {},
   "outputs": [
    {
     "name": "stdout",
     "output_type": "stream",
     "text": [
      "Raíz del error cuadrático medio (RMSE) Train/Test:  37.45921041326973 108.86007874293838\n",
      "Coeficiente de determinación (R^2) Train/Test: 0.12136924603844179 -42.34164585834472\n"
     ]
    }
   ],
   "source": [
    "# Evaluando el modelo\n",
    "rmse_train=RegressionEvaluator(labelCol=\"High\", predictionCol=\"prediction\", metricName=\"rmse\").evaluate(set_pred_train)\n",
    "r2_train=RegressionEvaluator(labelCol=\"High\", predictionCol=\"prediction\", metricName=\"r2\").evaluate(set_pred_train)\n",
    "\n",
    "rmse_test=RegressionEvaluator(labelCol=\"High\", predictionCol=\"prediction\", metricName=\"rmse\").evaluate(set_pred_test)\n",
    "r2_test=RegressionEvaluator(labelCol=\"High\", predictionCol=\"prediction\", metricName=\"r2\").evaluate(set_pred_test)\n",
    "\n",
    "print(\"Raíz del error cuadrático medio (RMSE) Train/Test: \", rmse_train, rmse_test)\n",
    "print(\"Coeficiente de determinación (R^2) Train/Test:\",r2_train, r2_test)"
   ]
  },
  {
   "cell_type": "markdown",
   "metadata": {},
   "source": [
    "---"
   ]
  },
  {
   "cell_type": "markdown",
   "metadata": {},
   "source": [
    "### **Gradient-Boosted Tree Regression**"
   ]
  },
  {
   "cell_type": "code",
   "execution_count": 27,
   "metadata": {},
   "outputs": [],
   "source": [
    "# Importación de librerías\n",
    "from pyspark.ml.regression import GBTRegressor"
   ]
  },
  {
   "cell_type": "code",
   "execution_count": 28,
   "metadata": {},
   "outputs": [],
   "source": [
    "# Creación del Pipeline\n",
    "va=VectorAssembler(inputCols=set_train.columns, outputCol=\"features\")\n",
    "n=Normalizer(inputCol=\"features\", outputCol=\"features_nom\")\n",
    "gbtr=GBTRegressor(featuresCol=\"features_nom\", labelCol=\"High\")\n",
    "\n",
    "p=Pipeline(stages=[va,n,gbtr])\n",
    "model=p.fit(set_train)"
   ]
  },
  {
   "cell_type": "code",
   "execution_count": 29,
   "metadata": {},
   "outputs": [],
   "source": [
    "# Predicciones con el set de entrenamiento y prueba\n",
    "set_pred_train=model.transform(set_train)\n",
    "set_pred_test=model.transform(set_test)"
   ]
  },
  {
   "cell_type": "code",
   "execution_count": 30,
   "metadata": {},
   "outputs": [
    {
     "name": "stdout",
     "output_type": "stream",
     "text": [
      "+----------+------------------+\n",
      "|      High|        prediction|\n",
      "+----------+------------------+\n",
      "|182.880005| 67.76876226812809|\n",
      "|182.880005| 67.76876226812809|\n",
      "|182.880005| 67.76876226812809|\n",
      "|182.940002| 32.59428646813161|\n",
      "|180.169998|31.394472565828003|\n",
      "|175.300003|60.717439382057385|\n",
      "|174.139999| 50.69435761125713|\n",
      "|     172.5| 85.20653898079215|\n",
      "|     172.5| 85.20653898079215|\n",
      "|     172.5| 85.20653898079215|\n",
      "|175.179993| 64.06604229801378|\n",
      "|177.179993| 54.51126298947539|\n",
      "|176.619995| 77.53511617419689|\n",
      "|173.779999|61.358932285387944|\n",
      "|172.539993| 39.77555331475612|\n",
      "|172.539993| 39.77555331475612|\n",
      "|172.539993| 39.77555331475612|\n",
      "|172.539993| 39.77555331475612|\n",
      "|171.080002| 81.99892242951034|\n",
      "|169.679993|  93.0338757060349|\n",
      "+----------+------------------+\n",
      "only showing top 20 rows\n",
      "\n"
     ]
    }
   ],
   "source": [
    "# Comparando los valores\n",
    "set_pred_test.select(\"High\",\"prediction\").show()"
   ]
  },
  {
   "cell_type": "code",
   "execution_count": 31,
   "metadata": {},
   "outputs": [
    {
     "name": "stdout",
     "output_type": "stream",
     "text": [
      "Raíz del error cuadrático medio (RMSE) Train/Test:  33.81002895384922 109.27122947856347\n",
      "Coeficiente de determinación (R^2) Train/Test: 0.28421886479144787 -42.669655935698906\n"
     ]
    }
   ],
   "source": [
    "# Evaluando el modelo\n",
    "rmse_train=RegressionEvaluator(labelCol=\"High\", predictionCol=\"prediction\", metricName=\"rmse\").evaluate(set_pred_train)\n",
    "r2_train=RegressionEvaluator(labelCol=\"High\", predictionCol=\"prediction\", metricName=\"r2\").evaluate(set_pred_train)\n",
    "\n",
    "rmse_test=RegressionEvaluator(labelCol=\"High\", predictionCol=\"prediction\", metricName=\"rmse\").evaluate(set_pred_test)\n",
    "r2_test=RegressionEvaluator(labelCol=\"High\", predictionCol=\"prediction\", metricName=\"r2\").evaluate(set_pred_test)\n",
    "\n",
    "print(\"Raíz del error cuadrático medio (RMSE) Train/Test: \", rmse_train, rmse_test)\n",
    "print(\"Coeficiente de determinación (R^2) Train/Test:\", r2_train, r2_test)"
   ]
  },
  {
   "cell_type": "markdown",
   "metadata": {},
   "source": [
    "---"
   ]
  },
  {
   "cell_type": "markdown",
   "metadata": {},
   "source": [
    "**CONCLUSIÓN GENERAL: Como se pudo observar en cada uno de los algoritmos de regresión evaluados, ninguno de ellos logró alcanzar un rendimiento cercano al del modelo de Deep Learning basado en redes LSTM para la predicción de series de tiempo. Los valores de error cuadrático medio (RMSE) de estos algoritmos se mantuvieron en el rango de [30; 110], y los coeficientes de determinación (R^2) se encontraron en el rango de [-42; 0.29]. En contraste, el modelo de Deep Learning mostró un RMSE promedio de tan solo 4.27 y un R^2 promedio de 0.93, incluso al considerar predicciones a siete días, evidenciando su superioridad.**\n",
    "\n",
    "**Es importante destacar que, aunque es posible que se pueda mejorar el rendimiento de los algoritmos de regresión mediante la experimentación con hiperparámetros, queda claro que no alcanzarían ni remotamente el nivel de rendimiento del modelo de Deep Learning seleccionado. Por lo tanto, la elección del modelo de Deep Learning se respalda firmemente en base a los resultados obtenidos en esta comparación.**"
   ]
  }
 ],
 "metadata": {
  "kernelspec": {
   "display_name": "Python 3",
   "language": "python",
   "name": "python3"
  },
  "language_info": {
   "codemirror_mode": {
    "name": "ipython",
    "version": 3
   },
   "file_extension": ".py",
   "mimetype": "text/x-python",
   "name": "python",
   "nbconvert_exporter": "python",
   "pygments_lexer": "ipython3",
   "version": "3.9.2"
  },
  "orig_nbformat": 4
 },
 "nbformat": 4,
 "nbformat_minor": 2
}
